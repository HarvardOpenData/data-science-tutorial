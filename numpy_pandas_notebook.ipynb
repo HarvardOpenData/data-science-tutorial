{
 "cells": [
  {
   "cell_type": "markdown",
   "metadata": {
    "slideshow": {
     "slide_type": "slide"
    }
   },
   "source": [
    "# NumPy and Pandas Tutorial\n",
    "## HODP Bootcamp Week 5"
   ]
  },
  {
   "cell_type": "markdown",
   "metadata": {
    "slideshow": {
     "slide_type": "subslide"
    }
   },
   "source": [
    "## Last time we . . . \n",
    "* Learned how to use Jupyter Notebook\n",
    "* Learned some Python\n",
    "    - datatypes (strings, integers)\n",
    "    - functions\n",
    "    - data structures like lists and dictionaries\n",
    "* Used Python to analyze concentration data"
   ]
  },
  {
   "cell_type": "markdown",
   "metadata": {
    "slideshow": {
     "slide_type": "subslide"
    }
   },
   "source": [
    "## This week:\n",
    "* Learn how to use Python libraries numpy and pandas to make data analysis easy and efficient\n",
    "* Understand key differences between Python, NumPy, Pandas, and more traditional tools like Google Sheets\n",
    "* Practice your new data science skills!"
   ]
  },
  {
   "cell_type": "markdown",
   "metadata": {
    "slideshow": {
     "slide_type": "slide"
    }
   },
   "source": [
    "## Getting Started"
   ]
  },
  {
   "cell_type": "code",
   "execution_count": 1,
   "metadata": {
    "collapsed": true,
    "slideshow": {
     "slide_type": "subslide"
    }
   },
   "outputs": [],
   "source": [
    "import numpy as np\n",
    "import pandas as pd\n",
    "import matplotlib.pyplot as plt\n",
    "import seaborn; seaborn.set()  # set plot style"
   ]
  },
  {
   "cell_type": "markdown",
   "metadata": {
    "slideshow": {
     "slide_type": "slide"
    }
   },
   "source": [
    "## Python vs. NumPy\n",
    "* Python lists are flexible, but bugs can be tough to find and for-loops to manipulate data can be slow\n",
    "* NumPy arrays have fixed types and functions can be __vectorized__ and operations can be __broadcast__ across arrays"
   ]
  },
  {
   "cell_type": "code",
   "execution_count": 2,
   "metadata": {
    "slideshow": {
     "slide_type": "subslide"
    }
   },
   "outputs": [
    {
     "data": {
      "text/plain": [
       "['Emma', 'Jeffrey', 1, 2]"
      ]
     },
     "execution_count": 2,
     "metadata": {},
     "output_type": "execute_result"
    }
   ],
   "source": [
    "lst = [\"Emma\", \"Jeffrey\", 1, 2] # This is a valid Python list\n",
    "lst"
   ]
  },
  {
   "cell_type": "code",
   "execution_count": 3,
   "metadata": {
    "slideshow": {
     "slide_type": "subslide"
    }
   },
   "outputs": [
    {
     "data": {
      "text/plain": [
       "array(['Emma', 'Jeffrey', '1', '2'],\n",
       "      dtype='<U7')"
      ]
     },
     "execution_count": 3,
     "metadata": {},
     "output_type": "execute_result"
    }
   ],
   "source": [
    "np_lst = np.array(lst) # Numpy forces them all to be strings\n",
    "np_lst"
   ]
  },
  {
   "cell_type": "code",
   "execution_count": 4,
   "metadata": {
    "slideshow": {
     "slide_type": "subslide"
    }
   },
   "outputs": [
    {
     "name": "stdout",
     "output_type": "stream",
     "text": [
      "Emma 4\n",
      "Jeffrey 4\n"
     ]
    },
    {
     "ename": "TypeError",
     "evalue": "unsupported operand type(s) for +: 'int' and 'str'",
     "output_type": "error",
     "traceback": [
      "\u001b[0;31m---------------------------------------------------------------------------\u001b[0m",
      "\u001b[0;31mTypeError\u001b[0m                                 Traceback (most recent call last)",
      "\u001b[0;32m<ipython-input-4-f554bdab9d94>\u001b[0m in \u001b[0;36m<module>\u001b[0;34m()\u001b[0m\n\u001b[1;32m      1\u001b[0m \u001b[0;32mfor\u001b[0m \u001b[0melt\u001b[0m \u001b[0;32min\u001b[0m \u001b[0mlst\u001b[0m\u001b[0;34m:\u001b[0m\u001b[0;34m\u001b[0m\u001b[0m\n\u001b[0;32m----> 2\u001b[0;31m     \u001b[0mprint\u001b[0m\u001b[0;34m(\u001b[0m\u001b[0melt\u001b[0m \u001b[0;34m+\u001b[0m \u001b[0;34m\" 4\"\u001b[0m\u001b[0;34m)\u001b[0m\u001b[0;34m\u001b[0m\u001b[0m\n\u001b[0m",
      "\u001b[0;31mTypeError\u001b[0m: unsupported operand type(s) for +: 'int' and 'str'"
     ]
    }
   ],
   "source": [
    "for elt in lst:\n",
    "    print(elt + \" 4\")"
   ]
  },
  {
   "cell_type": "code",
   "execution_count": 5,
   "metadata": {
    "slideshow": {
     "slide_type": "subslide"
    }
   },
   "outputs": [
    {
     "name": "stdout",
     "output_type": "stream",
     "text": [
      "Emma is fun\n",
      "Jeffrey is fun\n",
      "1 is fun\n",
      "2 is fun\n"
     ]
    }
   ],
   "source": [
    "for elt in np_lst:\n",
    "    print(elt + \" is fun\")"
   ]
  },
  {
   "cell_type": "markdown",
   "metadata": {
    "slideshow": {
     "slide_type": "slide"
    }
   },
   "source": [
    "## Creating NumPy arrays"
   ]
  },
  {
   "cell_type": "markdown",
   "metadata": {
    "slideshow": {
     "slide_type": "fragment"
    }
   },
   "source": [
    "First, we can use ``np.array`` to create arrays from Python lists:"
   ]
  },
  {
   "cell_type": "code",
   "execution_count": 6,
   "metadata": {
    "slideshow": {
     "slide_type": "fragment"
    }
   },
   "outputs": [
    {
     "data": {
      "text/plain": [
       "array([1, 4, 2, 5, 3])"
      ]
     },
     "execution_count": 6,
     "metadata": {},
     "output_type": "execute_result"
    }
   ],
   "source": [
    "# integer array:\n",
    "np.array([1, 4, 2, 5, 3])"
   ]
  },
  {
   "cell_type": "markdown",
   "metadata": {
    "slideshow": {
     "slide_type": "subslide"
    }
   },
   "source": [
    "Remember that unlike Python lists, NumPy is constrained to arrays that all contain the same type.\n",
    "If types do not match, NumPy will upcast if possible (here, integers are up-cast to floating point):"
   ]
  },
  {
   "cell_type": "code",
   "execution_count": 7,
   "metadata": {
    "slideshow": {
     "slide_type": "fragment"
    }
   },
   "outputs": [
    {
     "data": {
      "text/plain": [
       "array([ 3.14,  4.  ,  2.  ,  3.  ])"
      ]
     },
     "execution_count": 7,
     "metadata": {},
     "output_type": "execute_result"
    }
   ],
   "source": [
    "np.array([3.14, 4, 2, 3]) # Notice how the elements in the resulting array are all floats"
   ]
  },
  {
   "cell_type": "code",
   "execution_count": 8,
   "metadata": {
    "slideshow": {
     "slide_type": "fragment"
    }
   },
   "outputs": [
    {
     "data": {
      "text/plain": [
       "array([ 1.,  2.,  3.,  4.], dtype=float32)"
      ]
     },
     "execution_count": 8,
     "metadata": {},
     "output_type": "execute_result"
    }
   ],
   "source": [
    "np.array([1, 2, 3, 4], dtype='float32') # You can explicitly set the type with the dtype keyword"
   ]
  },
  {
   "cell_type": "markdown",
   "metadata": {
    "slideshow": {
     "slide_type": "subslide"
    }
   },
   "source": [
    "Numpy has a bunch of handy built-in functions to generate arrays:"
   ]
  },
  {
   "cell_type": "code",
   "execution_count": 9,
   "metadata": {
    "slideshow": {
     "slide_type": "fragment"
    }
   },
   "outputs": [
    {
     "data": {
      "text/plain": [
       "array([0, 0, 0, 0, 0, 0, 0, 0, 0, 0])"
      ]
     },
     "execution_count": 9,
     "metadata": {},
     "output_type": "execute_result"
    }
   ],
   "source": [
    "# Create a length-10 integer array filled with zeros\n",
    "np.zeros(10, dtype=int)"
   ]
  },
  {
   "cell_type": "code",
   "execution_count": 10,
   "metadata": {
    "slideshow": {
     "slide_type": "fragment"
    }
   },
   "outputs": [
    {
     "data": {
      "text/plain": [
       "array([[ 1.,  1.,  1.,  1.,  1.],\n",
       "       [ 1.,  1.,  1.,  1.,  1.],\n",
       "       [ 1.,  1.,  1.,  1.,  1.]])"
      ]
     },
     "execution_count": 10,
     "metadata": {},
     "output_type": "execute_result"
    }
   ],
   "source": [
    "# Create a 3x5 floating-point array filled with ones\n",
    "np.ones((3, 5), dtype=float)"
   ]
  },
  {
   "cell_type": "code",
   "execution_count": 11,
   "metadata": {
    "slideshow": {
     "slide_type": "subslide"
    }
   },
   "outputs": [
    {
     "data": {
      "text/plain": [
       "array([ 0.  ,  0.25,  0.5 ,  0.75,  1.  ])"
      ]
     },
     "execution_count": 11,
     "metadata": {},
     "output_type": "execute_result"
    }
   ],
   "source": [
    "# Create an array of five values evenly spaced between 0 and 1\n",
    "np.linspace(0, 1, 5)"
   ]
  },
  {
   "cell_type": "code",
   "execution_count": 12,
   "metadata": {
    "slideshow": {
     "slide_type": "fragment"
    }
   },
   "outputs": [
    {
     "data": {
      "text/plain": [
       "array([[ 0.03046076,  0.47689936,  0.76566072],\n",
       "       [ 0.90424662,  0.0668741 ,  0.61246174],\n",
       "       [ 0.20580938,  0.99148962,  0.92304126]])"
      ]
     },
     "execution_count": 12,
     "metadata": {},
     "output_type": "execute_result"
    }
   ],
   "source": [
    "# Create a 3x3 array of uniformly distributed random values between 0 and 1\n",
    "np.random.random((3, 3))"
   ]
  },
  {
   "cell_type": "code",
   "execution_count": 13,
   "metadata": {
    "slideshow": {
     "slide_type": "fragment"
    }
   },
   "outputs": [
    {
     "data": {
      "text/plain": [
       "array([[ 1.01793428,  0.13368545, -0.38808249],\n",
       "       [-2.05232093,  1.24900217,  0.75582063],\n",
       "       [ 1.12686621, -2.20156675, -1.1527615 ]])"
      ]
     },
     "execution_count": 13,
     "metadata": {},
     "output_type": "execute_result"
    }
   ],
   "source": [
    "# Create a 3x3 array of normally distributed random values with mean 0 and standard deviation 1\n",
    "np.random.normal(0, 1, (3, 3))"
   ]
  },
  {
   "cell_type": "markdown",
   "metadata": {
    "slideshow": {
     "slide_type": "slide"
    }
   },
   "source": [
    "## Rule of Thumb: Don't reinvent the wheel\n",
    "Google if a function already exists that does what you want"
   ]
  },
  {
   "cell_type": "markdown",
   "metadata": {
    "slideshow": {
     "slide_type": "slide"
    }
   },
   "source": [
    "## So, how is this useful for data analysis?"
   ]
  },
  {
   "cell_type": "markdown",
   "metadata": {
    "slideshow": {
     "slide_type": "fragment"
    }
   },
   "source": [
    "Often when faced with a large amount of data, a first step is to compute summary statistics for the data in question.\n",
    "Perhaps the most common summary statistics are the __mean__ and __standard deviation__, which allow you to summarize the \"typical\" values in a dataset, but other aggregates are useful as well (the sum, product, median, minimum and maximum, quantiles, etc.)."
   ]
  },
  {
   "cell_type": "markdown",
   "metadata": {
    "slideshow": {
     "slide_type": "subslide"
    }
   },
   "source": [
    "NumPy has fast built-in aggregation functions for working on arrays; we'll discuss and demonstrate some of them here."
   ]
  },
  {
   "cell_type": "code",
   "execution_count": 14,
   "metadata": {
    "slideshow": {
     "slide_type": "fragment"
    }
   },
   "outputs": [
    {
     "name": "stdout",
     "output_type": "stream",
     "text": [
      "78.1 ms ± 4.91 ms per loop (mean ± std. dev. of 7 runs, 10 loops each)\n",
      "407 µs ± 27.4 µs per loop (mean ± std. dev. of 7 runs, 10 loops each)\n"
     ]
    }
   ],
   "source": [
    "big_array = np.random.rand(1000000)\n",
    "%timeit -n 10 sum(big_array)\n",
    "%timeit -n 10 np.sum(big_array)"
   ]
  },
  {
   "cell_type": "markdown",
   "metadata": {
    "slideshow": {
     "slide_type": "subslide"
    }
   },
   "source": [
    "### Some more handy features of NumPy:"
   ]
  },
  {
   "cell_type": "markdown",
   "metadata": {
    "slideshow": {
     "slide_type": "subslide"
    }
   },
   "source": [
    "One common type of aggregation operation is an aggregate along a row or column."
   ]
  },
  {
   "cell_type": "markdown",
   "metadata": {
    "slideshow": {
     "slide_type": "fragment"
    }
   },
   "source": [
    "Say you have some data stored in a two-dimensional array:"
   ]
  },
  {
   "cell_type": "code",
   "execution_count": 15,
   "metadata": {
    "slideshow": {
     "slide_type": "fragment"
    }
   },
   "outputs": [
    {
     "name": "stdout",
     "output_type": "stream",
     "text": [
      "[[ 0.08140188  0.28114077  0.95768854  0.33538014]\n",
      " [ 0.09431977  0.74492574  0.94216626  0.95327674]\n",
      " [ 0.66245297  0.84996413  0.33538085  0.28467867]]\n"
     ]
    }
   ],
   "source": [
    "M = np.random.random((3, 4))\n",
    "print(M)"
   ]
  },
  {
   "cell_type": "markdown",
   "metadata": {
    "slideshow": {
     "slide_type": "subslide"
    }
   },
   "source": [
    "By default, each NumPy aggregation function will return the aggregate over the entire array:"
   ]
  },
  {
   "cell_type": "code",
   "execution_count": 16,
   "metadata": {
    "slideshow": {
     "slide_type": "fragment"
    }
   },
   "outputs": [
    {
     "data": {
      "text/plain": [
       "0.08140188002596771"
      ]
     },
     "execution_count": 16,
     "metadata": {},
     "output_type": "execute_result"
    }
   ],
   "source": [
    "M.min()"
   ]
  },
  {
   "cell_type": "markdown",
   "metadata": {
    "slideshow": {
     "slide_type": "fragment"
    }
   },
   "source": [
    "But what if you want the min for each row or each column?"
   ]
  },
  {
   "cell_type": "code",
   "execution_count": 17,
   "metadata": {
    "slideshow": {
     "slide_type": "fragment"
    }
   },
   "outputs": [
    {
     "data": {
      "text/plain": [
       "array([ 0.08140188,  0.28114077,  0.33538085,  0.28467867])"
      ]
     },
     "execution_count": 17,
     "metadata": {},
     "output_type": "execute_result"
    }
   ],
   "source": [
    "M.min(axis=0)"
   ]
  },
  {
   "cell_type": "code",
   "execution_count": 18,
   "metadata": {
    "slideshow": {
     "slide_type": "fragment"
    }
   },
   "outputs": [
    {
     "data": {
      "text/plain": [
       "array([ 0.08140188,  0.09431977,  0.28467867])"
      ]
     },
     "execution_count": 18,
     "metadata": {},
     "output_type": "execute_result"
    }
   ],
   "source": [
    "M.min(axis=1)"
   ]
  },
  {
   "cell_type": "markdown",
   "metadata": {
    "slideshow": {
     "slide_type": "slide"
    }
   },
   "source": [
    "### Other aggregation functions"
   ]
  },
  {
   "cell_type": "markdown",
   "metadata": {
    "slideshow": {
     "slide_type": "fragment"
    }
   },
   "source": [
    "Most aggregates have a ``NaN``-safe counterpart that computes the result while ignoring missing values, which are marked by the special floating-point ``NaN`` value."
   ]
  },
  {
   "cell_type": "markdown",
   "metadata": {
    "slideshow": {
     "slide_type": "fragment"
    }
   },
   "source": [
    "The following table provides a list of useful aggregation functions available in NumPy:\n",
    "\n",
    "|Function Name      |   NaN-safe Version  | Description                                   |\n",
    "|-------------------|---------------------|-----------------------------------------------|\n",
    "| ``np.sum``        | ``np.nansum``       | Compute sum of elements                       |\n",
    "| ``np.prod``       | ``np.nanprod``      | Compute product of elements                   |\n",
    "| ``np.mean``       | ``np.nanmean``      | Compute mean of elements                      |\n",
    "| ``np.std``        | ``np.nanstd``       | Compute standard deviation                    |\n",
    "| ``np.var``        | ``np.nanvar``       | Compute variance                              |\n",
    "| ``np.min``        | ``np.nanmin``       | Find minimum value                            |\n",
    "| ``np.max``        | ``np.nanmax``       | Find maximum value                            |\n",
    "| ``np.argmin``     | ``np.nanargmin``    | Find index of minimum value                   |\n",
    "| ``np.argmax``     | ``np.nanargmax``    | Find index of maximum value                   |\n",
    "| ``np.median``     | ``np.nanmedian``    | Compute median of elements                    |\n",
    "| ``np.percentile`` | ``np.nanpercentile``| Compute rank-based statistics of elements     |\n",
    "| ``np.any``        | N/A                 | Evaluate whether any elements are true        |\n",
    "| ``np.all``        | N/A                 | Evaluate whether all elements are true        |"
   ]
  },
  {
   "cell_type": "markdown",
   "metadata": {
    "slideshow": {
     "slide_type": "slide"
    }
   },
   "source": [
    "## Pandas"
   ]
  },
  {
   "cell_type": "markdown",
   "metadata": {
    "slideshow": {
     "slide_type": "subslide"
    }
   },
   "source": [
    "* Pandas is another useful library for data analysis.\n",
    "* While NumPy is really useful for math, it relies on __arrays__ of specific datatypes (ints, floats, etc).\n",
    "* Pandas uses two data structures: `Series` and `Dataframe` that are designed to package lots of different types of data similar to a spreadsheet.\n",
    "* It combines the functionality of Python and NumPy with the ease of use of Google Sheets."
   ]
  },
  {
   "cell_type": "markdown",
   "metadata": {
    "slideshow": {
     "slide_type": "slide"
    }
   },
   "source": [
    "## Example: House Rankings"
   ]
  },
  {
   "cell_type": "markdown",
   "metadata": {
    "slideshow": {
     "slide_type": "fragment"
    }
   },
   "source": [
    "We will:\n",
    "1. Read in the data\n",
    "2. Manipulate the data into a more useable form\n",
    "3. Analyze the data\n",
    "4. Plot our results"
   ]
  },
  {
   "cell_type": "markdown",
   "metadata": {
    "slideshow": {
     "slide_type": "slide"
    }
   },
   "source": [
    "### Reading in the data"
   ]
  },
  {
   "cell_type": "markdown",
   "metadata": {
    "slideshow": {
     "slide_type": "subslide"
    }
   },
   "source": [
    "It's super easy to use Pandas to read in data from csv files:"
   ]
  },
  {
   "cell_type": "code",
   "execution_count": 30,
   "metadata": {
    "collapsed": true,
    "slideshow": {
     "slide_type": "fragment"
    }
   },
   "outputs": [],
   "source": [
    "rankings = pd.read_csv(\"house_rankings.csv\")"
   ]
  },
  {
   "cell_type": "markdown",
   "metadata": {
    "slideshow": {
     "slide_type": "fragment"
    }
   },
   "source": [
    "And it looks beautiful:"
   ]
  },
  {
   "cell_type": "code",
   "execution_count": 32,
   "metadata": {
    "slideshow": {
     "slide_type": "fragment"
    }
   },
   "outputs": [
    {
     "data": {
      "text/html": [
       "<div>\n",
       "<style>\n",
       "    .dataframe thead tr:only-child th {\n",
       "        text-align: right;\n",
       "    }\n",
       "\n",
       "    .dataframe thead th {\n",
       "        text-align: left;\n",
       "    }\n",
       "\n",
       "    .dataframe tbody tr th {\n",
       "        vertical-align: top;\n",
       "    }\n",
       "</style>\n",
       "<table border=\"1\" class=\"dataframe\">\n",
       "  <thead>\n",
       "    <tr style=\"text-align: right;\">\n",
       "      <th></th>\n",
       "      <th>House</th>\n",
       "      <th>1</th>\n",
       "      <th>2</th>\n",
       "      <th>3</th>\n",
       "      <th>4</th>\n",
       "      <th>5</th>\n",
       "      <th>6</th>\n",
       "      <th>7</th>\n",
       "      <th>8</th>\n",
       "      <th>9</th>\n",
       "      <th>10</th>\n",
       "      <th>11</th>\n",
       "      <th>12</th>\n",
       "    </tr>\n",
       "  </thead>\n",
       "  <tbody>\n",
       "    <tr>\n",
       "      <th>0</th>\n",
       "      <td>Adams</td>\n",
       "      <td>24</td>\n",
       "      <td>32</td>\n",
       "      <td>34</td>\n",
       "      <td>37</td>\n",
       "      <td>51</td>\n",
       "      <td>45</td>\n",
       "      <td>42</td>\n",
       "      <td>36</td>\n",
       "      <td>26</td>\n",
       "      <td>20</td>\n",
       "      <td>28</td>\n",
       "      <td>44</td>\n",
       "    </tr>\n",
       "    <tr>\n",
       "      <th>1</th>\n",
       "      <td>Cabot</td>\n",
       "      <td>16</td>\n",
       "      <td>17</td>\n",
       "      <td>31</td>\n",
       "      <td>24</td>\n",
       "      <td>18</td>\n",
       "      <td>23</td>\n",
       "      <td>24</td>\n",
       "      <td>23</td>\n",
       "      <td>41</td>\n",
       "      <td>57</td>\n",
       "      <td>86</td>\n",
       "      <td>59</td>\n",
       "    </tr>\n",
       "    <tr>\n",
       "      <th>2</th>\n",
       "      <td>Currier</td>\n",
       "      <td>19</td>\n",
       "      <td>24</td>\n",
       "      <td>20</td>\n",
       "      <td>22</td>\n",
       "      <td>23</td>\n",
       "      <td>25</td>\n",
       "      <td>18</td>\n",
       "      <td>25</td>\n",
       "      <td>34</td>\n",
       "      <td>61</td>\n",
       "      <td>71</td>\n",
       "      <td>77</td>\n",
       "    </tr>\n",
       "    <tr>\n",
       "      <th>3</th>\n",
       "      <td>Dunster</td>\n",
       "      <td>41</td>\n",
       "      <td>84</td>\n",
       "      <td>62</td>\n",
       "      <td>45</td>\n",
       "      <td>49</td>\n",
       "      <td>35</td>\n",
       "      <td>38</td>\n",
       "      <td>20</td>\n",
       "      <td>22</td>\n",
       "      <td>8</td>\n",
       "      <td>12</td>\n",
       "      <td>3</td>\n",
       "    </tr>\n",
       "    <tr>\n",
       "      <th>4</th>\n",
       "      <td>Eliot</td>\n",
       "      <td>27</td>\n",
       "      <td>39</td>\n",
       "      <td>40</td>\n",
       "      <td>42</td>\n",
       "      <td>49</td>\n",
       "      <td>39</td>\n",
       "      <td>34</td>\n",
       "      <td>47</td>\n",
       "      <td>37</td>\n",
       "      <td>18</td>\n",
       "      <td>29</td>\n",
       "      <td>18</td>\n",
       "    </tr>\n",
       "    <tr>\n",
       "      <th>5</th>\n",
       "      <td>Kirkland</td>\n",
       "      <td>16</td>\n",
       "      <td>21</td>\n",
       "      <td>24</td>\n",
       "      <td>46</td>\n",
       "      <td>39</td>\n",
       "      <td>52</td>\n",
       "      <td>41</td>\n",
       "      <td>52</td>\n",
       "      <td>41</td>\n",
       "      <td>42</td>\n",
       "      <td>22</td>\n",
       "      <td>23</td>\n",
       "    </tr>\n",
       "    <tr>\n",
       "      <th>6</th>\n",
       "      <td>Leverett</td>\n",
       "      <td>12</td>\n",
       "      <td>31</td>\n",
       "      <td>40</td>\n",
       "      <td>44</td>\n",
       "      <td>40</td>\n",
       "      <td>51</td>\n",
       "      <td>58</td>\n",
       "      <td>51</td>\n",
       "      <td>41</td>\n",
       "      <td>31</td>\n",
       "      <td>13</td>\n",
       "      <td>7</td>\n",
       "    </tr>\n",
       "    <tr>\n",
       "      <th>7</th>\n",
       "      <td>Lowell</td>\n",
       "      <td>16</td>\n",
       "      <td>27</td>\n",
       "      <td>28</td>\n",
       "      <td>38</td>\n",
       "      <td>41</td>\n",
       "      <td>43</td>\n",
       "      <td>43</td>\n",
       "      <td>39</td>\n",
       "      <td>38</td>\n",
       "      <td>32</td>\n",
       "      <td>29</td>\n",
       "      <td>45</td>\n",
       "    </tr>\n",
       "    <tr>\n",
       "      <th>8</th>\n",
       "      <td>Mather</td>\n",
       "      <td>21</td>\n",
       "      <td>13</td>\n",
       "      <td>18</td>\n",
       "      <td>24</td>\n",
       "      <td>26</td>\n",
       "      <td>21</td>\n",
       "      <td>34</td>\n",
       "      <td>47</td>\n",
       "      <td>61</td>\n",
       "      <td>26</td>\n",
       "      <td>52</td>\n",
       "      <td>76</td>\n",
       "    </tr>\n",
       "    <tr>\n",
       "      <th>9</th>\n",
       "      <td>Pforzheimer</td>\n",
       "      <td>21</td>\n",
       "      <td>23</td>\n",
       "      <td>28</td>\n",
       "      <td>16</td>\n",
       "      <td>20</td>\n",
       "      <td>21</td>\n",
       "      <td>31</td>\n",
       "      <td>28</td>\n",
       "      <td>44</td>\n",
       "      <td>93</td>\n",
       "      <td>50</td>\n",
       "      <td>44</td>\n",
       "    </tr>\n",
       "    <tr>\n",
       "      <th>10</th>\n",
       "      <td>Quincy</td>\n",
       "      <td>34</td>\n",
       "      <td>42</td>\n",
       "      <td>56</td>\n",
       "      <td>51</td>\n",
       "      <td>40</td>\n",
       "      <td>47</td>\n",
       "      <td>38</td>\n",
       "      <td>36</td>\n",
       "      <td>24</td>\n",
       "      <td>23</td>\n",
       "      <td>20</td>\n",
       "      <td>8</td>\n",
       "    </tr>\n",
       "    <tr>\n",
       "      <th>11</th>\n",
       "      <td>Winthrop</td>\n",
       "      <td>172</td>\n",
       "      <td>66</td>\n",
       "      <td>38</td>\n",
       "      <td>30</td>\n",
       "      <td>23</td>\n",
       "      <td>17</td>\n",
       "      <td>18</td>\n",
       "      <td>15</td>\n",
       "      <td>10</td>\n",
       "      <td>8</td>\n",
       "      <td>7</td>\n",
       "      <td>15</td>\n",
       "    </tr>\n",
       "  </tbody>\n",
       "</table>\n",
       "</div>"
      ],
      "text/plain": [
       "          House    1   2   3   4   5   6   7   8   9  10  11  12\n",
       "0         Adams   24  32  34  37  51  45  42  36  26  20  28  44\n",
       "1         Cabot   16  17  31  24  18  23  24  23  41  57  86  59\n",
       "2       Currier   19  24  20  22  23  25  18  25  34  61  71  77\n",
       "3       Dunster   41  84  62  45  49  35  38  20  22   8  12   3\n",
       "4         Eliot   27  39  40  42  49  39  34  47  37  18  29  18\n",
       "5      Kirkland   16  21  24  46  39  52  41  52  41  42  22  23\n",
       "6      Leverett   12  31  40  44  40  51  58  51  41  31  13   7\n",
       "7        Lowell   16  27  28  38  41  43  43  39  38  32  29  45\n",
       "8        Mather   21  13  18  24  26  21  34  47  61  26  52  76\n",
       "9   Pforzheimer   21  23  28  16  20  21  31  28  44  93  50  44\n",
       "10       Quincy   34  42  56  51  40  47  38  36  24  23  20   8\n",
       "11     Winthrop  172  66  38  30  23  17  18  15  10   8   7  15"
      ]
     },
     "execution_count": 32,
     "metadata": {},
     "output_type": "execute_result"
    }
   ],
   "source": [
    "rankings"
   ]
  },
  {
   "cell_type": "markdown",
   "metadata": {
    "slideshow": {
     "slide_type": "slide"
    }
   },
   "source": [
    "### Manipulating the data"
   ]
  },
  {
   "cell_type": "markdown",
   "metadata": {
    "slideshow": {
     "slide_type": "subslide"
    }
   },
   "source": [
    "It may be useful to also have this data in a NumPy array so we can use some of the NumPy aggregate functions to analyze our data (although Pandas also has its own version of these functions).  It's easy to convert between types:"
   ]
  },
  {
   "cell_type": "code",
   "execution_count": 39,
   "metadata": {
    "slideshow": {
     "slide_type": "fragment"
    }
   },
   "outputs": [
    {
     "data": {
      "text/plain": [
       "array([['Adams', 24, 32, 34, 37, 51, 45, 42, 36, 26, 20, 28, 44],\n",
       "       ['Cabot', 16, 17, 31, 24, 18, 23, 24, 23, 41, 57, 86, 59],\n",
       "       ['Currier', 19, 24, 20, 22, 23, 25, 18, 25, 34, 61, 71, 77],\n",
       "       ['Dunster', 41, 84, 62, 45, 49, 35, 38, 20, 22, 8, 12, 3],\n",
       "       ['Eliot', 27, 39, 40, 42, 49, 39, 34, 47, 37, 18, 29, 18],\n",
       "       ['Kirkland', 16, 21, 24, 46, 39, 52, 41, 52, 41, 42, 22, 23],\n",
       "       ['Leverett', 12, 31, 40, 44, 40, 51, 58, 51, 41, 31, 13, 7],\n",
       "       ['Lowell', 16, 27, 28, 38, 41, 43, 43, 39, 38, 32, 29, 45],\n",
       "       ['Mather', 21, 13, 18, 24, 26, 21, 34, 47, 61, 26, 52, 76],\n",
       "       ['Pforzheimer', 21, 23, 28, 16, 20, 21, 31, 28, 44, 93, 50, 44],\n",
       "       ['Quincy', 34, 42, 56, 51, 40, 47, 38, 36, 24, 23, 20, 8],\n",
       "       ['Winthrop', 172, 66, 38, 30, 23, 17, 18, 15, 10, 8, 7, 15]], dtype=object)"
      ]
     },
     "execution_count": 39,
     "metadata": {},
     "output_type": "execute_result"
    }
   ],
   "source": [
    "rankings.values"
   ]
  },
  {
   "cell_type": "markdown",
   "metadata": {
    "slideshow": {
     "slide_type": "subslide"
    }
   },
   "source": [
    "We can also splice this array to just keep the numbers:"
   ]
  },
  {
   "cell_type": "code",
   "execution_count": 38,
   "metadata": {
    "slideshow": {
     "slide_type": "fragment"
    }
   },
   "outputs": [
    {
     "data": {
      "text/plain": [
       "array([[24, 32, 34, 37, 51, 45, 42, 36, 26, 20, 28, 44],\n",
       "       [16, 17, 31, 24, 18, 23, 24, 23, 41, 57, 86, 59],\n",
       "       [19, 24, 20, 22, 23, 25, 18, 25, 34, 61, 71, 77],\n",
       "       [41, 84, 62, 45, 49, 35, 38, 20, 22, 8, 12, 3],\n",
       "       [27, 39, 40, 42, 49, 39, 34, 47, 37, 18, 29, 18],\n",
       "       [16, 21, 24, 46, 39, 52, 41, 52, 41, 42, 22, 23],\n",
       "       [12, 31, 40, 44, 40, 51, 58, 51, 41, 31, 13, 7],\n",
       "       [16, 27, 28, 38, 41, 43, 43, 39, 38, 32, 29, 45],\n",
       "       [21, 13, 18, 24, 26, 21, 34, 47, 61, 26, 52, 76],\n",
       "       [21, 23, 28, 16, 20, 21, 31, 28, 44, 93, 50, 44],\n",
       "       [34, 42, 56, 51, 40, 47, 38, 36, 24, 23, 20, 8],\n",
       "       [172, 66, 38, 30, 23, 17, 18, 15, 10, 8, 7, 15]], dtype=object)"
      ]
     },
     "execution_count": 38,
     "metadata": {},
     "output_type": "execute_result"
    }
   ],
   "source": [
    "rankings.values[:, 1:]"
   ]
  },
  {
   "cell_type": "code",
   "execution_count": null,
   "metadata": {
    "collapsed": true
   },
   "outputs": [],
   "source": []
  },
  {
   "cell_type": "markdown",
   "metadata": {
    "slideshow": {
     "slide_type": "slide"
    }
   },
   "source": [
    "### Analyzing the data"
   ]
  },
  {
   "cell_type": "markdown",
   "metadata": {
    "slideshow": {
     "slide_type": "subslide"
    }
   },
   "source": [
    "First, how many students filled out the survey?"
   ]
  },
  {
   "cell_type": "markdown",
   "metadata": {
    "slideshow": {
     "slide_type": "subslide"
    }
   },
   "source": [
    "Which house was the most popular?"
   ]
  },
  {
   "cell_type": "markdown",
   "metadata": {
    "slideshow": {
     "slide_type": "subslide"
    }
   },
   "source": [
    "Find the percentage of first place rankings for each house."
   ]
  },
  {
   "cell_type": "code",
   "execution_count": null,
   "metadata": {
    "collapsed": true,
    "slideshow": {
     "slide_type": "subslide"
    }
   },
   "outputs": [],
   "source": []
  }
 ],
 "metadata": {
  "celltoolbar": "Slideshow",
  "kernelspec": {
   "display_name": "Python 3",
   "language": "python",
   "name": "python3"
  },
  "language_info": {
   "codemirror_mode": {
    "name": "ipython",
    "version": 3
   },
   "file_extension": ".py",
   "mimetype": "text/x-python",
   "name": "python",
   "nbconvert_exporter": "python",
   "pygments_lexer": "ipython3",
   "version": "3.6.3"
  }
 },
 "nbformat": 4,
 "nbformat_minor": 2
}
